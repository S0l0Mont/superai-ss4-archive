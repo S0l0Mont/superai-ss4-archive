{
 "cells": [
  {
   "cell_type": "code",
   "execution_count": 1,
   "metadata": {},
   "outputs": [
    {
     "name": "stderr",
     "output_type": "stream",
     "text": [
      "2024-02-29 19:48:42.078882: I tensorflow/core/platform/cpu_feature_guard.cc:182] This TensorFlow binary is optimized to use available CPU instructions in performance-critical operations.\n",
      "To enable the following instructions: AVX2 FMA, in other operations, rebuild TensorFlow with the appropriate compiler flags.\n"
     ]
    }
   ],
   "source": [
    "import pandas as pd\n",
    "from transformers import RobertaTokenizerFast, RobertaForTokenClassification, pipeline\n",
    "from attacut import tokenize\n",
    "import torch\n",
    "from sklearn.metrics import f1_score\n"
   ]
  },
  {
   "cell_type": "code",
   "execution_count": 6,
   "metadata": {},
   "outputs": [
    {
     "data": {
      "text/html": [
       "<div>\n",
       "<style scoped>\n",
       "    .dataframe tbody tr th:only-of-type {\n",
       "        vertical-align: middle;\n",
       "    }\n",
       "\n",
       "    .dataframe tbody tr th {\n",
       "        vertical-align: top;\n",
       "    }\n",
       "\n",
       "    .dataframe thead th {\n",
       "        text-align: right;\n",
       "    }\n",
       "</style>\n",
       "<table border=\"1\" class=\"dataframe\">\n",
       "  <thead>\n",
       "    <tr style=\"text-align: right;\">\n",
       "      <th></th>\n",
       "      <th>i</th>\n",
       "      <th>pred</th>\n",
       "    </tr>\n",
       "  </thead>\n",
       "  <tbody>\n",
       "    <tr>\n",
       "      <th>0</th>\n",
       "      <td>0</td>\n",
       "      <td>O</td>\n",
       "    </tr>\n",
       "    <tr>\n",
       "      <th>1</th>\n",
       "      <td>1</td>\n",
       "      <td>O</td>\n",
       "    </tr>\n",
       "    <tr>\n",
       "      <th>2</th>\n",
       "      <td>2</td>\n",
       "      <td>O</td>\n",
       "    </tr>\n",
       "    <tr>\n",
       "      <th>3</th>\n",
       "      <td>3</td>\n",
       "      <td>NaN</td>\n",
       "    </tr>\n",
       "    <tr>\n",
       "      <th>4</th>\n",
       "      <td>4</td>\n",
       "      <td>NaN</td>\n",
       "    </tr>\n",
       "  </tbody>\n",
       "</table>\n",
       "</div>"
      ],
      "text/plain": [
       "   i pred\n",
       "0  0    O\n",
       "1  1    O\n",
       "2  2    O\n",
       "3  3  NaN\n",
       "4  4  NaN"
      ]
     },
     "execution_count": 6,
     "metadata": {},
     "output_type": "execute_result"
    }
   ],
   "source": [
    "sample_submission = pd.read_csv('csvs/sample_submission.csv')\n",
    "df = pd.read_csv('csvs/test.csv')\n",
    "df['pred'] = sample_submission['pred']\n",
    "sample_submission.head()\n"
   ]
  },
  {
   "cell_type": "code",
   "execution_count": 7,
   "metadata": {},
   "outputs": [
    {
     "data": {
      "text/html": [
       "<div>\n",
       "<style scoped>\n",
       "    .dataframe tbody tr th:only-of-type {\n",
       "        vertical-align: middle;\n",
       "    }\n",
       "\n",
       "    .dataframe tbody tr th {\n",
       "        vertical-align: top;\n",
       "    }\n",
       "\n",
       "    .dataframe thead th {\n",
       "        text-align: right;\n",
       "    }\n",
       "</style>\n",
       "<table border=\"1\" class=\"dataframe\">\n",
       "  <thead>\n",
       "    <tr style=\"text-align: right;\">\n",
       "      <th></th>\n",
       "      <th>i</th>\n",
       "      <th>word</th>\n",
       "      <th>pred</th>\n",
       "    </tr>\n",
       "  </thead>\n",
       "  <tbody>\n",
       "    <tr>\n",
       "      <th>0</th>\n",
       "      <td>0</td>\n",
       "      <td>ใน</td>\n",
       "      <td>O</td>\n",
       "    </tr>\n",
       "    <tr>\n",
       "      <th>1</th>\n",
       "      <td>1</td>\n",
       "      <td>สมัย</td>\n",
       "      <td>O</td>\n",
       "    </tr>\n",
       "    <tr>\n",
       "      <th>2</th>\n",
       "      <td>2</td>\n",
       "      <td>หนึ่ง</td>\n",
       "      <td>O</td>\n",
       "    </tr>\n",
       "    <tr>\n",
       "      <th>3</th>\n",
       "      <td>3</td>\n",
       "      <td>_</td>\n",
       "      <td>NaN</td>\n",
       "    </tr>\n",
       "    <tr>\n",
       "      <th>4</th>\n",
       "      <td>4</td>\n",
       "      <td>พระพุทธเจ้า</td>\n",
       "      <td>NaN</td>\n",
       "    </tr>\n",
       "  </tbody>\n",
       "</table>\n",
       "</div>"
      ],
      "text/plain": [
       "   i         word pred\n",
       "0  0           ใน    O\n",
       "1  1         สมัย    O\n",
       "2  2        หนึ่ง    O\n",
       "3  3            _  NaN\n",
       "4  4  พระพุทธเจ้า  NaN"
      ]
     },
     "execution_count": 7,
     "metadata": {},
     "output_type": "execute_result"
    }
   ],
   "source": [
    "df.head()"
   ]
  },
  {
   "cell_type": "code",
   "execution_count": 8,
   "metadata": {},
   "outputs": [],
   "source": [
    "df['end'] = 0\n",
    "df['start'] = 0"
   ]
  },
  {
   "cell_type": "code",
   "execution_count": 10,
   "metadata": {},
   "outputs": [],
   "source": [
    "all_sentences = []\n",
    "sent = ''\n",
    "for i, row in df.iterrows():\n",
    "    all_sentences.append(str(row['word']).replace(\"_\",\"[!und:]\"))\n",
    "    df.at[i, 'start'] = len(sent)\n",
    "    sent += all_sentences[-1]\n",
    "    df.at[i, 'end'] = len(sent)\n",
    "    sent += ' _ '\n",
    "sentence = ' _ '.join(all_sentences)"
   ]
  },
  {
   "cell_type": "code",
   "execution_count": 11,
   "metadata": {},
   "outputs": [
    {
     "data": {
      "text/plain": [
       "'ใน _ สมัย _ หนึ่ง _ [!und:] _ พระพุทธเจ้า _ ประทับ _ อยู่ _ วัด _ เชตวัน _ [!und:] _ เมือง _ สาวัตถี'"
      ]
     },
     "execution_count": 11,
     "metadata": {},
     "output_type": "execute_result"
    }
   ],
   "source": [
    "sentence[:100]"
   ]
  },
  {
   "cell_type": "code",
   "execution_count": 12,
   "metadata": {},
   "outputs": [
    {
     "name": "stderr",
     "output_type": "stream",
     "text": [
      "The tokenizer class you load from this checkpoint is not the same type as the class this function is called from. It may result in unexpected tokenization. \n",
      "The tokenizer class you load from this checkpoint is 'PreTrainedTokenizerFast'. \n",
      "The class this function is called from is 'RobertaTokenizerFast'.\n"
     ]
    }
   ],
   "source": [
    "tokenizer = RobertaTokenizerFast.from_pretrained(\"lst-nectec/HoogBERTa-NER-lst20\")\n",
    "model = RobertaForTokenClassification.from_pretrained(\"lst-nectec/HoogBERTa-NER-lst20\")\n"
   ]
  },
  {
   "cell_type": "code",
   "execution_count": 21,
   "metadata": {},
   "outputs": [
    {
     "data": {
      "text/plain": [
       "{'O': 0,\n",
       " 'B_ORG': 1,\n",
       " 'B_PER': 2,\n",
       " 'B_LOC': 3,\n",
       " 'B_MEA': 4,\n",
       " 'I_DTM': 5,\n",
       " 'I_ORG': 6,\n",
       " 'E_ORG': 7,\n",
       " 'I_PER': 8,\n",
       " 'B_TTL': 9,\n",
       " 'E_PER': 10,\n",
       " 'B_DES': 11,\n",
       " 'E_LOC': 12,\n",
       " 'B_DTM': 13,\n",
       " 'B_NUM': 14,\n",
       " 'I_MEA': 15,\n",
       " 'E_DTM': 16,\n",
       " 'E_MEA': 17,\n",
       " 'I_LOC': 18,\n",
       " 'I_DES': 19,\n",
       " 'E_DES': 20,\n",
       " 'I_NUM': 21,\n",
       " 'E_NUM': 22,\n",
       " 'B_TRM': 23,\n",
       " 'B_BRN': 24,\n",
       " 'I_TRM': 25,\n",
       " 'E_TRM': 26,\n",
       " 'I_TTL': 27,\n",
       " 'I_BRN': 28,\n",
       " 'E_BRN': 29,\n",
       " 'E_TTL': 30,\n",
       " 'B_NAME': 31}"
      ]
     },
     "execution_count": 21,
     "metadata": {},
     "output_type": "execute_result"
    }
   ],
   "source": [
    "tag_list = pd.read_csv('csvs/tag_list.csv')\n",
    "tags = {row['tag']:row['class'] for _, row in tag_list.iterrows()}\n",
    "tags"
   ]
  },
  {
   "cell_type": "code",
   "execution_count": 13,
   "metadata": {},
   "outputs": [],
   "source": [
    "nlp = pipeline('token-classification', model=model, tokenizer=tokenizer, aggregation_strategy=\"none\")"
   ]
  },
  {
   "cell_type": "code",
   "execution_count": 29,
   "metadata": {},
   "outputs": [
    {
     "name": "stdout",
     "output_type": "stream",
     "text": [
      "[{'entity': 'B_LOC', 'score': 0.9159466, 'index': 19, 'word': 'วัด</w>', 'start': 60, 'end': 63}, {'entity': 'I_LOC', 'score': 0.93994606, 'index': 20, 'word': '_</w>', 'start': 64, 'end': 65}, {'entity': 'E_LOC', 'score': 0.84722865, 'index': 21, 'word': 'เช', 'start': 66, 'end': 68}, {'entity': 'E_LOC', 'score': 0.8021171, 'index': 22, 'word': 'ตวัน</w>', 'start': 68, 'end': 72}, {'entity': 'B_LOC', 'score': 0.917551, 'index': 30, 'word': 'เมือง</w>', 'start': 85, 'end': 90}, {'entity': 'I_LOC', 'score': 0.8523873, 'index': 31, 'word': '_</w>', 'start': 91, 'end': 92}, {'entity': 'E_LOC', 'score': 0.80220824, 'index': 32, 'word': 'สาวัตถี</w>', 'start': 93, 'end': 100}, {'entity': 'B_NUM', 'score': 0.67212677, 'index': 161, 'word': '3</w>', 'start': 495, 'end': 496}, {'entity': 'B_NUM', 'score': 0.5691418, 'index': 222, 'word': '4</w>', 'start': 629, 'end': 630}, {'entity': 'B_NUM', 'score': 0.53849363, 'index': 446, 'word': '3</w>', 'start': 1214, 'end': 1215}, {'entity': 'B_MEA', 'score': 0.5163067, 'index': 505, 'word': '7</w>', 'start': 1383, 'end': 1384}]\n"
     ]
    }
   ],
   "source": [
    "outputs = nlp(sentence)\n",
    "print(outputs)"
   ]
  },
  {
   "cell_type": "code",
   "execution_count": 30,
   "metadata": {},
   "outputs": [],
   "source": [
    "output_dicts = {out['start']: out for out in outputs}"
   ]
  },
  {
   "cell_type": "code",
   "execution_count": 31,
   "metadata": {},
   "outputs": [
    {
     "data": {
      "text/plain": [
       "'ใน _ สมัย _ หนึ่ง _ [!und:] _ พระพุทธเจ้า _ ประทับ _ อยู่ _ วัด _ เชตวัน _ [!und:] _ เมือง _ สาวัตถี'"
      ]
     },
     "execution_count": 31,
     "metadata": {},
     "output_type": "execute_result"
    }
   ],
   "source": [
    "sent[:100]"
   ]
  },
  {
   "cell_type": "code",
   "execution_count": 34,
   "metadata": {},
   "outputs": [
    {
     "data": {
      "text/plain": [
       "i             8\n",
       "word     เชตวัน\n",
       "pred         12\n",
       "end          72\n",
       "start        66\n",
       "Name: 8, dtype: object"
      ]
     },
     "execution_count": 34,
     "metadata": {},
     "output_type": "execute_result"
    }
   ],
   "source": [
    "df.iloc[8]"
   ]
  },
  {
   "cell_type": "code",
   "execution_count": 33,
   "metadata": {},
   "outputs": [],
   "source": [
    "df['pred'] = 0\n",
    "dummy_word = ''\n",
    "for i, row in df.iterrows():\n",
    "    if row['start'] in output_dicts:\n",
    "        df.at[i, 'pred'] = tags[output_dicts[row['start']]['entity']]\n",
    "        output_dicts.pop(row['start'])\n",
    "    elif str(row['word']).isdigit():\n",
    "        df.at[i, 'pred'] = tags['B_NUM']\n"
   ]
  },
  {
   "cell_type": "code",
   "execution_count": 35,
   "metadata": {},
   "outputs": [
    {
     "data": {
      "text/html": [
       "<div>\n",
       "<style scoped>\n",
       "    .dataframe tbody tr th:only-of-type {\n",
       "        vertical-align: middle;\n",
       "    }\n",
       "\n",
       "    .dataframe tbody tr th {\n",
       "        vertical-align: top;\n",
       "    }\n",
       "\n",
       "    .dataframe thead th {\n",
       "        text-align: right;\n",
       "    }\n",
       "</style>\n",
       "<table border=\"1\" class=\"dataframe\">\n",
       "  <thead>\n",
       "    <tr style=\"text-align: right;\">\n",
       "      <th></th>\n",
       "      <th>i</th>\n",
       "      <th>word</th>\n",
       "      <th>pred</th>\n",
       "      <th>end</th>\n",
       "      <th>start</th>\n",
       "    </tr>\n",
       "  </thead>\n",
       "  <tbody>\n",
       "    <tr>\n",
       "      <th>0</th>\n",
       "      <td>0</td>\n",
       "      <td>ใน</td>\n",
       "      <td>0</td>\n",
       "      <td>2</td>\n",
       "      <td>0</td>\n",
       "    </tr>\n",
       "    <tr>\n",
       "      <th>1</th>\n",
       "      <td>1</td>\n",
       "      <td>สมัย</td>\n",
       "      <td>0</td>\n",
       "      <td>9</td>\n",
       "      <td>5</td>\n",
       "    </tr>\n",
       "    <tr>\n",
       "      <th>2</th>\n",
       "      <td>2</td>\n",
       "      <td>หนึ่ง</td>\n",
       "      <td>0</td>\n",
       "      <td>17</td>\n",
       "      <td>12</td>\n",
       "    </tr>\n",
       "    <tr>\n",
       "      <th>3</th>\n",
       "      <td>3</td>\n",
       "      <td>_</td>\n",
       "      <td>0</td>\n",
       "      <td>27</td>\n",
       "      <td>20</td>\n",
       "    </tr>\n",
       "    <tr>\n",
       "      <th>4</th>\n",
       "      <td>4</td>\n",
       "      <td>พระพุทธเจ้า</td>\n",
       "      <td>0</td>\n",
       "      <td>41</td>\n",
       "      <td>30</td>\n",
       "    </tr>\n",
       "  </tbody>\n",
       "</table>\n",
       "</div>"
      ],
      "text/plain": [
       "   i         word  pred  end  start\n",
       "0  0           ใน     0    2      0\n",
       "1  1         สมัย     0    9      5\n",
       "2  2        หนึ่ง     0   17     12\n",
       "3  3            _     0   27     20\n",
       "4  4  พระพุทธเจ้า     0   41     30"
      ]
     },
     "execution_count": 35,
     "metadata": {},
     "output_type": "execute_result"
    }
   ],
   "source": [
    "df.head()"
   ]
  },
  {
   "cell_type": "code",
   "execution_count": 36,
   "metadata": {},
   "outputs": [],
   "source": [
    "df[['i', 'pred']].to_csv('csvs/baseline.csv', index=False)"
   ]
  }
 ],
 "metadata": {
  "kernelspec": {
   "display_name": "Python 3",
   "language": "python",
   "name": "python3"
  },
  "language_info": {
   "codemirror_mode": {
    "name": "ipython",
    "version": 3
   },
   "file_extension": ".py",
   "mimetype": "text/x-python",
   "name": "python",
   "nbconvert_exporter": "python",
   "pygments_lexer": "ipython3",
   "version": "3.8.16"
  }
 },
 "nbformat": 4,
 "nbformat_minor": 2
}
